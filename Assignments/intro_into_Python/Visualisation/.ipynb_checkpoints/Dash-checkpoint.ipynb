{
 "cells": [
  {
   "cell_type": "markdown",
   "metadata": {},
   "source": [
    "# Dash"
   ]
  },
  {
   "cell_type": "markdown",
   "metadata": {},
   "source": [
    "Dash is similar to Shiny. It is a tool that allows you to make simple, data driven, web applications. \n",
    "\n",
    "Dash is a productive Python framework for **building web analytic applications**.\n",
    "\n",
    "Written on top of Flask, Plotly.js, and React.js, Dash is ideal for building data visualization apps with highly custom user interfaces in pure Python. It's particularly suited for anyone who works with data in Python.\n",
    "\n",
    "Through a couple of simple patterns, Dash abstracts away all of the technologies and protocols that are required to build an interactive web-based application. Dash is simple enough that you can bind a user interface around your Python code in an afternoon.\n",
    "\n",
    "**Dash apps are rendered in the web browser. You can deploy your apps to servers and then share them through URLs**. Since Dash apps are viewed in the web browser, Dash is inherently cross-platform and mobile ready.\n",
    "\n",
    "There is a lot behind the framework. To learn more about how it is built and what motivated Dash checck this [link](https://medium.com/plotly/introducing-dash-5ecf7191b503)\n",
    "\n",
    "Dash is an open source library, released under the permissive MIT license. Plotly develops Dash and offers a platform for managing Dash apps in an enterprise environment."
   ]
  },
  {
   "cell_type": "markdown",
   "metadata": {},
   "source": [
    "## Dash Tutorial"
   ]
  },
  {
   "cell_type": "markdown",
   "metadata": {},
   "source": [
    "#### Part 1. [Installation](https://dash.plotly.com/installation)\n",
    "\n",
    "How to install and upgrade dash libraries with pip\n",
    "\n"
   ]
  },
  {
   "cell_type": "code",
   "execution_count": 1,
   "metadata": {
    "scrolled": true
   },
   "outputs": [
    {
     "name": "stdout",
     "output_type": "stream",
     "text": [
      "Collecting dash==1.17.0\n",
      "  Downloading dash-1.17.0.tar.gz (75 kB)\n",
      "\u001b[K     |████████████████████████████████| 75 kB 662 kB/s eta 0:00:01\n",
      "\u001b[?25hRequirement already satisfied: Flask>=1.0.2 in /opt/anaconda3/lib/python3.8/site-packages (from dash==1.17.0) (1.1.2)\n",
      "Collecting flask-compress\n",
      "  Downloading Flask_Compress-1.8.0-py3-none-any.whl (7.2 kB)\n",
      "Collecting plotly\n",
      "  Downloading plotly-4.13.0-py2.py3-none-any.whl (13.1 MB)\n",
      "\u001b[K     |████████████████████████████████| 13.1 MB 15.5 MB/s eta 0:00:01\n",
      "\u001b[?25hCollecting dash_renderer==1.8.3\n",
      "  Downloading dash_renderer-1.8.3.tar.gz (1.0 MB)\n",
      "\u001b[K     |████████████████████████████████| 1.0 MB 11.6 MB/s eta 0:00:01\n",
      "\u001b[?25hCollecting dash-core-components==1.13.0\n",
      "  Downloading dash_core_components-1.13.0.tar.gz (3.5 MB)\n",
      "\u001b[K     |████████████████████████████████| 3.5 MB 12.1 MB/s eta 0:00:01\n",
      "\u001b[?25hCollecting dash-html-components==1.1.1\n",
      "  Downloading dash_html_components-1.1.1.tar.gz (188 kB)\n",
      "\u001b[K     |████████████████████████████████| 188 kB 11.8 MB/s eta 0:00:01\n",
      "\u001b[?25hCollecting dash-table==4.11.0\n",
      "  Downloading dash_table-4.11.0.tar.gz (1.8 MB)\n",
      "\u001b[K     |████████████████████████████████| 1.8 MB 12.6 MB/s eta 0:00:01\n",
      "\u001b[?25hRequirement already satisfied: future in /opt/anaconda3/lib/python3.8/site-packages (from dash==1.17.0) (0.18.2)\n",
      "Requirement already satisfied: Jinja2>=2.10.1 in /opt/anaconda3/lib/python3.8/site-packages (from Flask>=1.0.2->dash==1.17.0) (2.11.2)\n",
      "Requirement already satisfied: click>=5.1 in /opt/anaconda3/lib/python3.8/site-packages (from Flask>=1.0.2->dash==1.17.0) (7.1.2)\n",
      "Requirement already satisfied: Werkzeug>=0.15 in /opt/anaconda3/lib/python3.8/site-packages (from Flask>=1.0.2->dash==1.17.0) (1.0.1)\n",
      "Requirement already satisfied: itsdangerous>=0.24 in /opt/anaconda3/lib/python3.8/site-packages (from Flask>=1.0.2->dash==1.17.0) (1.1.0)\n",
      "Collecting brotli\n",
      "  Downloading Brotli-1.0.9-cp38-cp38-macosx_10_9_x86_64.whl (421 kB)\n",
      "\u001b[K     |████████████████████████████████| 421 kB 11.5 MB/s eta 0:00:01\n",
      "\u001b[?25hRequirement already satisfied: six in /opt/anaconda3/lib/python3.8/site-packages (from plotly->dash==1.17.0) (1.15.0)\n",
      "Collecting retrying>=1.3.3\n",
      "  Downloading retrying-1.3.3.tar.gz (10 kB)\n",
      "Requirement already satisfied: MarkupSafe>=0.23 in /opt/anaconda3/lib/python3.8/site-packages (from Jinja2>=2.10.1->Flask>=1.0.2->dash==1.17.0) (1.1.1)\n",
      "Building wheels for collected packages: dash, dash-renderer, dash-core-components, dash-html-components, dash-table, retrying\n",
      "  Building wheel for dash (setup.py) ... \u001b[?25ldone\n",
      "\u001b[?25h  Created wheel for dash: filename=dash-1.17.0-py3-none-any.whl size=83726 sha256=c975981beaf889b875739b60bea2eb0bfba9e7b693349420eaa409cd37380606\n",
      "  Stored in directory: /Users/macbookpro/Library/Caches/pip/wheels/fc/16/5c/549c935a88b11f2340725457d3135bc1d0900757fec1b98031\n",
      "  Building wheel for dash-renderer (setup.py) ... \u001b[?25ldone\n",
      "\u001b[?25h  Created wheel for dash-renderer: filename=dash_renderer-1.8.3-py3-none-any.whl size=1013944 sha256=2856e1af451a0f0a8eebd53f4eee1c425a2ffa4ef0ba0c788d8c436bedd22b21\n",
      "  Stored in directory: /Users/macbookpro/Library/Caches/pip/wheels/82/4d/8c/0764de014b25313cf54199f212bad4fb4b228ecfaef58be3b9\n",
      "  Building wheel for dash-core-components (setup.py) ... \u001b[?25ldone\n",
      "\u001b[?25h  Created wheel for dash-core-components: filename=dash_core_components-1.13.0-py3-none-any.whl size=3513141 sha256=15e7a5cb26cd94fc8056292f273481718993a9a4420357022f724d0c360fd443\n",
      "  Stored in directory: /Users/macbookpro/Library/Caches/pip/wheels/42/a5/88/62859b46d766dd1089b37ff67fc4286053f6047df9aa33f47e\n",
      "  Building wheel for dash-html-components (setup.py) ... \u001b[?25ldone\n",
      "\u001b[?25h  Created wheel for dash-html-components: filename=dash_html_components-1.1.1-py3-none-any.whl size=427894 sha256=9ebf69715d225f619b00cf1399ef55f36d57855ee055f063bde0107f3e4c6f1d\n",
      "  Stored in directory: /Users/macbookpro/Library/Caches/pip/wheels/ed/fc/1c/f68ef111763cc328876457a871024052e0b48950c63bc1ac04\n",
      "  Building wheel for dash-table (setup.py) ... \u001b[?25ldone\n",
      "\u001b[?25h  Created wheel for dash-table: filename=dash_table-4.11.0-py3-none-any.whl size=1839768 sha256=15b054d22f5e5aeb76121fc6812f1366dbd2a67602112d63b019c7bbb8882687\n",
      "  Stored in directory: /Users/macbookpro/Library/Caches/pip/wheels/b0/25/0d/252a5ffb11ea2591b8f4916d9e5f39d53be07aab11f66d58e5\n",
      "  Building wheel for retrying (setup.py) ... \u001b[?25ldone\n",
      "\u001b[?25h  Created wheel for retrying: filename=retrying-1.3.3-py3-none-any.whl size=11430 sha256=6d47a2e479393d22366b5452247856cb4d19cc6ecb93079e54a0cb767711f911\n",
      "  Stored in directory: /Users/macbookpro/Library/Caches/pip/wheels/c4/a7/48/0a434133f6d56e878ca511c0e6c38326907c0792f67b476e56\n",
      "Successfully built dash dash-renderer dash-core-components dash-html-components dash-table retrying\n",
      "Installing collected packages: brotli, flask-compress, retrying, plotly, dash-renderer, dash-core-components, dash-html-components, dash-table, dash\n",
      "Successfully installed brotli-1.0.9 dash-1.17.0 dash-core-components-1.13.0 dash-html-components-1.1.1 dash-renderer-1.8.3 dash-table-4.11.0 flask-compress-1.8.0 plotly-4.13.0 retrying-1.3.3\n",
      "Note: you may need to restart the kernel to use updated packages.\n"
     ]
    }
   ],
   "source": [
    "pip install dash==1.17.0\n"
   ]
  },
  {
   "cell_type": "markdown",
   "metadata": {},
   "source": [
    "### Part 2. [Layout](https://dash.plotly.com/layout)\n",
    "\n",
    "The Dash layout describes what your app will look like and is composed of a set of declarative Dash components."
   ]
  },
  {
   "cell_type": "markdown",
   "metadata": {},
   "source": [
    "#### Part 3. [Basic Callbacks](https://dash.plotly.com/basic-callbacks)\n",
    "\n",
    "Dash apps are made interactive through Dash Callbacks: Python functions that are automatically called whenever an input component's property changes. Callbacks can be chained, allowing one update in the UI to trigger several updates across the app.\n"
   ]
  },
  {
   "cell_type": "markdown",
   "metadata": {},
   "source": [
    "#### Part 4. [Interactive Graphing and Crossfiltering](https://dash.plotly.com/interactive-graphing)\n",
    "\n",
    "Bind interactivity to the Dash Graph component whenever you hover, click, or select points on your chart.\n"
   ]
  },
  {
   "cell_type": "markdown",
   "metadata": {},
   "source": [
    "#### Part 5. [Sharing Data Between Callbacks](https://dash.plotly.com/sharing-data-between-callbacks)\n",
    "\n",
    "global variables will break your Dash apps. However, there are other ways to share data between callbacks. This chapter is useful for callbacks that run expensive data processing tasks or process large data."
   ]
  }
 ],
 "metadata": {
  "kernelspec": {
   "display_name": "Python 3",
   "language": "python",
   "name": "python3"
  },
  "language_info": {
   "codemirror_mode": {
    "name": "ipython",
    "version": 3
   },
   "file_extension": ".py",
   "mimetype": "text/x-python",
   "name": "python",
   "nbconvert_exporter": "python",
   "pygments_lexer": "ipython3",
   "version": "3.8.3"
  }
 },
 "nbformat": 4,
 "nbformat_minor": 4
}
