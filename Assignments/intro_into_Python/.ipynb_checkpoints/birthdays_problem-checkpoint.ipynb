{
 "cells": [
  {
   "cell_type": "markdown",
   "metadata": {},
   "source": [
    "# Birthday paradox in python"
   ]
  },
  {
   "cell_type": "markdown",
   "metadata": {},
   "source": [
    "How many people need to be in a room in order for the probability of two of them having the same birthday is greater than 50%. Do the same for 95% and 99%.\n",
    "\n"
   ]
  },
  {
   "cell_type": "markdown",
   "metadata": {},
   "source": [
    "The birthday paradox basically says that if there are 23 people in a class, the probability that two of them will have the same birthday is 50%."
   ]
  },
  {
   "cell_type": "code",
   "execution_count": 19,
   "metadata": {},
   "outputs": [],
   "source": [
    "# Approximate number of people in Birthday Paradox problem \n",
    "import math \n",
    "\n",
    "# Returns approximate number of people for a given probability \n",
    "def find( p ): \n",
    "\treturn math.ceil(math.sqrt(2 * 365 *\n",
    "\t\t\t\t\tmath.log(1/(1-p)))); \n",
    "\n",
    "# P(same) = 1 – P(different)"
   ]
  },
  {
   "cell_type": "code",
   "execution_count": 18,
   "metadata": {},
   "outputs": [
    {
     "name": "stdout",
     "output_type": "stream",
     "text": [
      "23 people in a room, the probability birthday is 50%\n",
      "47 people in a room, the probability birthday is 95%\n",
      "58 people in a room, the probability birthday is 99%\n"
     ]
    }
   ],
   "source": [
    "# Driver Code \n",
    "print(\"{} people in a room, the probability birthday is 50%\".format(find(0.50))) \n",
    "print(\"{} people in a room, the probability birthday is 95%\".format(find(0.95)))\n",
    "print(\"{} people in a room, the probability birthday is 99%\".format(find(0.99))) \n"
   ]
  },
  {
   "cell_type": "code",
   "execution_count": null,
   "metadata": {},
   "outputs": [],
   "source": []
  },
  {
   "cell_type": "code",
   "execution_count": null,
   "metadata": {},
   "outputs": [],
   "source": []
  },
  {
   "cell_type": "code",
   "execution_count": null,
   "metadata": {},
   "outputs": [],
   "source": [
    "## Another Soluation\n"
   ]
  }
 ],
 "metadata": {
  "kernelspec": {
   "display_name": "Python 3",
   "language": "python",
   "name": "python3"
  },
  "language_info": {
   "codemirror_mode": {
    "name": "ipython",
    "version": 3
   },
   "file_extension": ".py",
   "mimetype": "text/x-python",
   "name": "python",
   "nbconvert_exporter": "python",
   "pygments_lexer": "ipython3",
   "version": "3.7.8"
  }
 },
 "nbformat": 4,
 "nbformat_minor": 4
}
