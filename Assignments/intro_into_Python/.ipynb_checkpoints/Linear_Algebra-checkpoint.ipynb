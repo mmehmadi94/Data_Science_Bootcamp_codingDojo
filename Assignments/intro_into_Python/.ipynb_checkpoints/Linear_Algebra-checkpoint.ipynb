{
 "cells": [
  {
   "cell_type": "markdown",
   "metadata": {},
   "source": [
    "# Linear Algebra Assignment\n",
    "\n",
    "Use Numpy to Solve the Systems of Equations"
   ]
  },
  {
   "cell_type": "code",
   "execution_count": null,
   "metadata": {},
   "outputs": [],
   "source": [
    "import numpy as np"
   ]
  },
  {
   "cell_type": "code",
   "execution_count": null,
   "metadata": {},
   "outputs": [],
   "source": [
    "# 3x + 5y = 6\n",
    "# 7x - 5y = 9\n",
    "# What is value of x and y ?"
   ]
  },
  {
   "cell_type": "code",
   "execution_count": null,
   "metadata": {},
   "outputs": [],
   "source": [
    "A = np.array([[3,5],[7,-5]])\n",
    "b = np.arryay([6,9])\n",
    "x = np.linalg.solve(A,b)\n",
    "x"
   ]
  },
  {
   "cell_type": "code",
   "execution_count": null,
   "metadata": {},
   "outputs": [],
   "source": [
    "# x + y + z = 6\n",
    "#     y + z = -4\n",
    "# 2x + 5y - z = 27"
   ]
  },
  {
   "cell_type": "code",
   "execution_count": null,
   "metadata": {},
   "outputs": [],
   "source": [
    "A = np.array([[1,1,1],[0,1,1],[2,5,-1]])\n",
    "b = np.arryay([6,-4,27])\n",
    "x = np.linalg.solve(A,b)\n",
    "x"
   ]
  }
 ],
 "metadata": {
  "kernelspec": {
   "display_name": "Python 3",
   "language": "python",
   "name": "python3"
  }
 },
 "nbformat": 4,
 "nbformat_minor": 4
}
