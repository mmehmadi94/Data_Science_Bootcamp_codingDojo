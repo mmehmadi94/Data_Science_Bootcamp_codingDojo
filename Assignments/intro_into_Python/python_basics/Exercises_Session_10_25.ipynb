{
 "cells": [
  {
   "cell_type": "markdown",
   "metadata": {},
   "source": [
    "# Complete Each Exercise"
   ]
  },
  {
   "cell_type": "markdown",
   "metadata": {},
   "source": [
    "This is not graded, but important for learning Python. This is the learn by doing portion of the lecture. It is important to keep in mind that there are several ways to solve each of these exercises."
   ]
  },
  {
   "cell_type": "markdown",
   "metadata": {},
   "source": [
    "## 0) Conditional Logic \n",
    "\n",
    "1. Declare and assign a variable num to an integer value. \n",
    "2. Write a series of if, elif, else statements that will print the num you assigned. But for multiples of three print \"Fizz\" instead of the number and for the multiples of five print \"Buzz\". For numbers which are multiples of both three and five print \"FizzBuzz\"."
   ]
  },
  {
   "cell_type": "code",
   "execution_count": 6,
   "metadata": {},
   "outputs": [
    {
     "name": "stdout",
     "output_type": "stream",
     "text": [
      "FizzBuzz\n"
     ]
    }
   ],
   "source": [
    "num = 15\n",
    "\n",
    "if num % 3 == 0 and num % 5 == 0:\n",
    "    print(\"FizzBuzz\")\n",
    "elif  num % 3 == 0:\n",
    "    print(\"Fizz\")\n",
    "elif num % 5 == 0:\n",
    "    print(\"Buzz\")\n",
    "else:\n",
    "    print(num)"
   ]
  },
  {
   "cell_type": "markdown",
   "metadata": {},
   "source": [
    "## 1). FizzBuzz\n",
    "\n",
    "Write a program that prints the numbers from 1 to 20. But for multiples of three print “Fizz” instead of the number and for the multiples of five print “Buzz”. For numbers which are multiples of both three and five print “FizzBuzz”."
   ]
  },
  {
   "cell_type": "code",
   "execution_count": 9,
   "metadata": {},
   "outputs": [
    {
     "name": "stdout",
     "output_type": "stream",
     "text": [
      "3 Fizz\n",
      "5 Buzz\n",
      "6 Fizz\n",
      "9 Fizz\n",
      "10 Buzz\n",
      "12 Fizz\n",
      "15 FizzBuzz\n",
      "18 Fizz\n"
     ]
    }
   ],
   "source": [
    "for num in range (1,20): \n",
    "    if num % 3 == 0 and num % 5 == 0:\n",
    "        print(\"{} FizzBuzz\".format(num))\n",
    "    elif  num % 3 == 0:\n",
    "        print(\"{} Fizz\".format(num))\n",
    "    elif num % 5 == 0:\n",
    "        print(\"{} Buzz\".format(num))"
   ]
  },
  {
   "cell_type": "markdown",
   "metadata": {},
   "source": [
    "## 2). Generate Prime Numbers\n",
    "Write a program to generate a <b>list</b> of all prime numbers less than 20.\n",
    "Before starting it is important to note what a prime number is.\n",
    "1. A prime number has to be a positive integer\n",
    "2. Divisible by exactly 2 integers (1 and itself)\n",
    "3. 1 is not a prime number"
   ]
  },
  {
   "cell_type": "code",
   "execution_count": 65,
   "metadata": {},
   "outputs": [
    {
     "name": "stdout",
     "output_type": "stream",
     "text": [
      "[2, 3, 5, 7, 11, 13, 17, 19]\n"
     ]
    }
   ],
   "source": [
    "prime = []\n",
    "\n",
    "for num in range (2,21): \n",
    "    \n",
    "    isPrime = True\n",
    "    for i in range (2,num):\n",
    "        if num % i == 0 and num % 1 == 0:\n",
    "            isPrime = False\n",
    "            break\n",
    "    if isPrime:\n",
    "        prime.append(num)\n",
    "\n",
    "print(prime)\n",
    "   "
   ]
  },
  {
   "cell_type": "code",
   "execution_count": null,
   "metadata": {},
   "outputs": [],
   "source": [
    "lis = [] for i in range(1,50):     lis.append(i)     for j in range(2,i-1):         if(i%j==0):             lis.pop()             break  print(lis)lis = [] for i in range(1,50):     lis.append(i)     for j in range(2,i-1):         if(i%j==0):             lis.pop()             break  print(lis)"
   ]
  },
  {
   "cell_type": "markdown",
   "metadata": {},
   "source": [
    "## 3). Fibonacci Sequence"
   ]
  },
  {
   "cell_type": "markdown",
   "metadata": {},
   "source": [
    "Fibonacci sequence is an integer sequence characterized by the fact that every number after the first two is the sum of the two preceding ones. By definition, the first two numbers in the Fibonacci sequence are either 1 and 1 (<b>which is how I like to code it</b>), or 0 and 1, depending on the chosen starting point of the sequence, and each subsequent number is the sum of the previous two."
   ]
  },
  {
   "cell_type": "code",
   "execution_count": 16,
   "metadata": {},
   "outputs": [
    {
     "name": "stdout",
     "output_type": "stream",
     "text": [
      "0\n",
      "1\n",
      "1\n",
      "2\n",
      "3\n",
      "5\n",
      "8\n",
      "13\n",
      "21\n",
      "34\n",
      "55\n",
      "89\n",
      "144\n",
      "233\n",
      "377\n",
      "610\n",
      "987\n",
      "1597\n",
      "2584\n",
      "4181\n"
     ]
    }
   ],
   "source": [
    "\n",
    "def recur_fibo(n):\n",
    "    if n <= 1:\n",
    "        return n\n",
    "    else:\n",
    "        return(recur_fibo(n-1) + recur_fibo(n-2))\n",
    "\n",
    "    \n",
    "for i in range(20):\n",
    "       print(recur_fibo(i))\n",
    "\n",
    "    "
   ]
  },
  {
   "cell_type": "markdown",
   "metadata": {},
   "source": [
    "## 4). Word Count\n",
    "\n",
    "For the text in the variable <b>text</b>, count how many times each word occurs"
   ]
  },
  {
   "cell_type": "code",
   "execution_count": 2,
   "metadata": {},
   "outputs": [],
   "source": [
    "# Multiple line string\n",
    "text=\"\"\"Mr. Collins returned into Hertfordshire soon after it had been quitted by the Gardiners and Jane; but as he took up his abode with the Lucases, his arrival was no great inconvenience to Mrs. Bennet. His marriage was now fast approaching, and she was at length so far resigned as to think it inevitable, and even repeatedly to say, in an ill-natured tone, that she \"wished they might be happy.\" Thursday was to be the wedding day, and on Wednesday Miss Lucas paid her farewell visit; and when she rose to take leave, Elizabeth, ashamed of her mother's ungracious and reluctant good wishes, and sincerely affected herself, accompanied her out of the room. As they went downstairs together, Charlotte said:\"\"\""
   ]
  },
  {
   "cell_type": "code",
   "execution_count": 3,
   "metadata": {},
   "outputs": [
    {
     "name": "stdout",
     "output_type": "stream",
     "text": [
      "Mr. Collins returned into Hertfordshire soon after it had been quitted by the Gardiners and Jane; but as he took up his abode with the Lucases, his arrival was no great inconvenience to Mrs. Bennet. His marriage was now fast approaching, and she was at length so far resigned as to think it inevitable, and even repeatedly to say, in an ill-natured tone, that she \"wished they might be happy.\" Thursday was to be the wedding day, and on Wednesday Miss Lucas paid her farewell visit; and when she rose to take leave, Elizabeth, ashamed of her mother's ungracious and reluctant good wishes, and sincerely affected herself, accompanied her out of the room. As they went downstairs together, Charlotte said:\n"
     ]
    }
   ],
   "source": [
    "print(text)"
   ]
  },
  {
   "cell_type": "markdown",
   "metadata": {},
   "source": [
    "### Subtasks"
   ]
  },
  {
   "cell_type": "markdown",
   "metadata": {},
   "source": [
    "#### a. String Manipulation: Remove Punctuation, make all text lower()"
   ]
  },
  {
   "cell_type": "code",
   "execution_count": 23,
   "metadata": {},
   "outputs": [
    {
     "data": {
      "text/plain": [
       "'mr collins returned into hertfordshire soon after it had been quitted by the gardiners and jane but as he took up his abode with the lucases his arrival was no great inconvenience to mrs bennet his marriage was now fast approaching and she was at length so far resigned as to think it inevitable and even repeatedly to say in an illnatured tone that she wished they might be happy thursday was to be the wedding day and on wednesday miss lucas paid her farewell visit and when she rose to take leave elizabeth ashamed of her mothers ungracious and reluctant good wishes and sincerely affected herself accompanied her out of the room as they went downstairs together charlotte said'"
      ]
     },
     "execution_count": 23,
     "metadata": {},
     "output_type": "execute_result"
    }
   ],
   "source": [
    "import string\n",
    "newText = text.translate(text.maketrans('', '', string.punctuation)).lower()\n",
    "newText"
   ]
  },
  {
   "cell_type": "markdown",
   "metadata": {},
   "source": [
    "#### b. String Manipulation: Split each word into a element in a list"
   ]
  },
  {
   "cell_type": "code",
   "execution_count": 25,
   "metadata": {},
   "outputs": [
    {
     "data": {
      "text/plain": [
       "['Mr.',\n",
       " 'Collins',\n",
       " 'returned',\n",
       " 'into',\n",
       " 'Hertfordshire',\n",
       " 'soon',\n",
       " 'after',\n",
       " 'it',\n",
       " 'had',\n",
       " 'been',\n",
       " 'quitted',\n",
       " 'by',\n",
       " 'the',\n",
       " 'Gardiners',\n",
       " 'and',\n",
       " 'Jane;',\n",
       " 'but',\n",
       " 'as',\n",
       " 'he',\n",
       " 'took',\n",
       " 'up',\n",
       " 'his',\n",
       " 'abode',\n",
       " 'with',\n",
       " 'the',\n",
       " 'Lucases,',\n",
       " 'his',\n",
       " 'arrival',\n",
       " 'was',\n",
       " 'no',\n",
       " 'great',\n",
       " 'inconvenience',\n",
       " 'to',\n",
       " 'Mrs.',\n",
       " 'Bennet.',\n",
       " 'His',\n",
       " 'marriage',\n",
       " 'was',\n",
       " 'now',\n",
       " 'fast',\n",
       " 'approaching,',\n",
       " 'and',\n",
       " 'she',\n",
       " 'was',\n",
       " 'at',\n",
       " 'length',\n",
       " 'so',\n",
       " 'far',\n",
       " 'resigned',\n",
       " 'as',\n",
       " 'to',\n",
       " 'think',\n",
       " 'it',\n",
       " 'inevitable,',\n",
       " 'and',\n",
       " 'even',\n",
       " 'repeatedly',\n",
       " 'to',\n",
       " 'say,',\n",
       " 'in',\n",
       " 'an',\n",
       " 'ill-natured',\n",
       " 'tone,',\n",
       " 'that',\n",
       " 'she',\n",
       " '\"wished',\n",
       " 'they',\n",
       " 'might',\n",
       " 'be',\n",
       " 'happy.\"',\n",
       " 'Thursday',\n",
       " 'was',\n",
       " 'to',\n",
       " 'be',\n",
       " 'the',\n",
       " 'wedding',\n",
       " 'day,',\n",
       " 'and',\n",
       " 'on',\n",
       " 'Wednesday',\n",
       " 'Miss',\n",
       " 'Lucas',\n",
       " 'paid',\n",
       " 'her',\n",
       " 'farewell',\n",
       " 'visit;',\n",
       " 'and',\n",
       " 'when',\n",
       " 'she',\n",
       " 'rose',\n",
       " 'to',\n",
       " 'take',\n",
       " 'leave,',\n",
       " 'Elizabeth,',\n",
       " 'ashamed',\n",
       " 'of',\n",
       " 'her',\n",
       " \"mother's\",\n",
       " 'ungracious',\n",
       " 'and',\n",
       " 'reluctant',\n",
       " 'good',\n",
       " 'wishes,',\n",
       " 'and',\n",
       " 'sincerely',\n",
       " 'affected',\n",
       " 'herself,',\n",
       " 'accompanied',\n",
       " 'her',\n",
       " 'out',\n",
       " 'of',\n",
       " 'the',\n",
       " 'room.',\n",
       " 'As',\n",
       " 'they',\n",
       " 'went',\n",
       " 'downstairs',\n",
       " 'together,',\n",
       " 'Charlotte',\n",
       " 'said:']"
      ]
     },
     "execution_count": 25,
     "metadata": {},
     "output_type": "execute_result"
    }
   ],
   "source": [
    "text.split()"
   ]
  },
  {
   "cell_type": "markdown",
   "metadata": {},
   "source": [
    "#### c. Count how many times each word occurs in a list using a dictionary"
   ]
  },
  {
   "cell_type": "code",
   "execution_count": 26,
   "metadata": {},
   "outputs": [
    {
     "name": "stdout",
     "output_type": "stream",
     "text": [
      "dict_items([('Mr.', 1), ('Collins', 1), ('returned', 1), ('into', 1), ('Hertfordshire', 1), ('soon', 1), ('after', 1), ('it', 2), ('had', 1), ('been', 1), ('quitted', 1), ('by', 1), ('the', 4), ('Gardiners', 1), ('and', 7), ('Jane;', 1), ('but', 1), ('as', 2), ('he', 1), ('took', 1), ('up', 1), ('his', 2), ('abode', 1), ('with', 1), ('Lucases,', 1), ('arrival', 1), ('was', 4), ('no', 1), ('great', 1), ('inconvenience', 1), ('to', 5), ('Mrs.', 1), ('Bennet.', 1), ('His', 1), ('marriage', 1), ('now', 1), ('fast', 1), ('approaching,', 1), ('she', 3), ('at', 1), ('length', 1), ('so', 1), ('far', 1), ('resigned', 1), ('think', 1), ('inevitable,', 1), ('even', 1), ('repeatedly', 1), ('say,', 1), ('in', 1), ('an', 1), ('ill-natured', 1), ('tone,', 1), ('that', 1), ('\"wished', 1), ('they', 2), ('might', 1), ('be', 2), ('happy.\"', 1), ('Thursday', 1), ('wedding', 1), ('day,', 1), ('on', 1), ('Wednesday', 1), ('Miss', 1), ('Lucas', 1), ('paid', 1), ('her', 3), ('farewell', 1), ('visit;', 1), ('when', 1), ('rose', 1), ('take', 1), ('leave,', 1), ('Elizabeth,', 1), ('ashamed', 1), ('of', 2), (\"mother's\", 1), ('ungracious', 1), ('reluctant', 1), ('good', 1), ('wishes,', 1), ('sincerely', 1), ('affected', 1), ('herself,', 1), ('accompanied', 1), ('out', 1), ('room.', 1), ('As', 1), ('went', 1), ('downstairs', 1), ('together,', 1), ('Charlotte', 1), ('said:', 1)])\n"
     ]
    }
   ],
   "source": [
    "dict_count = {}\n",
    "words = text.split()\n",
    "\n",
    "for word in words:\n",
    "    if word in dict_count:\n",
    "        dict_count[word] += 1\n",
    "    else:\n",
    "        dict_count[word] = 1\n",
    "\n",
    "print (dict_count.items())"
   ]
  },
  {
   "cell_type": "markdown",
   "metadata": {},
   "source": [
    "## 5). Calculating a Monthly Car Payment"
   ]
  },
  {
   "cell_type": "markdown",
   "metadata": {},
   "source": [
    "Your monthly payment, also called your Equated Monthly Installment (EMI) is defined by [Investopedia](https://en.wikipedia.org/wiki/Investopedia) as a fixed payment amount made by a borrower to a lender at a specified date each calendar month. Equated monthly installments are used to pay off both interest and principal each month, so that over a specified number of years, the loan is paid off in full."
   ]
  },
  {
   "cell_type": "markdown",
   "metadata": {},
   "source": [
    "A monthly payment can be calculated using an EMI formula similar to the one below."
   ]
  },
  {
   "cell_type": "markdown",
   "metadata": {},
   "source": [
    "![](images/EMI_formula.png)"
   ]
  },
  {
   "cell_type": "markdown",
   "metadata": {},
   "source": [
    "Say I buy want to buy a 2019 Toyota Sienna for $31,115. I am curious how much it will cost me each month if I decide on taking out a loan to buy this new vehicle. A car dealer offers me a fixed interest rate of 7.02% over a 60 month term. How much would a monthly car payment be assuming the sales tax rate is 7.5%?"
   ]
  },
  {
   "cell_type": "code",
   "execution_count": 45,
   "metadata": {},
   "outputs": [
    {
     "name": "stdout",
     "output_type": "stream",
     "text": [
      "EMI = 2222.1945 and the tax = 166.6646 \n",
      "So, total monthly payment is 2388.8591 \n"
     ]
    }
   ],
   "source": [
    "EMI = round(float(31115 *( (0.0702*(1+0.0702)**60) / ((1+0.0702)**60 -1))) ,4)\n",
    "tax = round(monthly_payment * 0.075,4)\n",
    "EMI_with_tax = EMI + tax\n",
    "\n",
    "print(f\"EMI = {EMI} and the tax = {tax} \\nSo, total monthly payment is {EMI_with_tax} \")\n",
    "\n"
   ]
  },
  {
   "cell_type": "markdown",
   "metadata": {},
   "source": [
    "While this is a simplified and relatively accurate calculation (except for the sales tax being an assumption), more accurate calculations require work. Data Analytics/Science is about communicating results. We really do need how to do something more complicated (how much in total interest are we paying, how do we visualize this. This is what we will explore in future lectures)"
   ]
  },
  {
   "cell_type": "code",
   "execution_count": null,
   "metadata": {},
   "outputs": [],
   "source": []
  },
  {
   "cell_type": "markdown",
   "metadata": {},
   "source": [
    "### Challenge Question: Calculate Total Interest Paid Over the Course of a Loan"
   ]
  },
  {
   "cell_type": "markdown",
   "metadata": {},
   "source": [
    "This requires knowing a few things. It is often the case"
   ]
  },
  {
   "cell_type": "markdown",
   "metadata": {},
   "source": [
    "1-) The first thing is to calculate how much of the monthly payment will be paid towards interest in a month."
   ]
  },
  {
   "cell_type": "markdown",
   "metadata": {},
   "source": [
    "Interest paid\n",
    "\n",
    "$$r*P$$ where r/12 is the interest rate (APR) and P is the principal"
   ]
  },
  {
   "cell_type": "code",
   "execution_count": 48,
   "metadata": {},
   "outputs": [
    {
     "data": {
      "text/plain": [
       "182.02275"
      ]
     },
     "execution_count": 48,
     "metadata": {},
     "output_type": "execute_result"
    }
   ],
   "source": [
    "Interest_paid = 0.0702 * 31115\n",
    "Interest_month = Interest_paid / 12\n",
    "Interest_month"
   ]
  },
  {
   "cell_type": "markdown",
   "metadata": {},
   "source": [
    "2-) Each month, some of the monthly payment is paid towards principal and some towards interest. As principal lowers, to work out the interest you pay in the following months, you need to first calculate your new principal."
   ]
  },
  {
   "cell_type": "code",
   "execution_count": 59,
   "metadata": {},
   "outputs": [
    {
     "data": {
      "text/plain": [
       "2592.9167"
      ]
     },
     "execution_count": 59,
     "metadata": {},
     "output_type": "execute_result"
    }
   ],
   "source": [
    "principal_month = round(31115/12 ,4)\n",
    "# principal_month += principal_month *  0.075\n",
    "principal_month"
   ]
  },
  {
   "cell_type": "markdown",
   "metadata": {},
   "source": [
    "3-) Repeat steps 1 and 2 until the principal reaches 0."
   ]
  },
  {
   "cell_type": "code",
   "execution_count": 64,
   "metadata": {},
   "outputs": [
    {
     "name": "stdout",
     "output_type": "stream",
     "text": [
      "28340.06055\n",
      "25565.121099999997\n",
      "22790.181649999995\n",
      "20015.242199999993\n",
      "17240.30274999999\n",
      "14465.363299999992\n",
      "11690.423849999992\n",
      "8915.484399999992\n",
      "6140.544949999992\n",
      "3365.605499999992\n",
      "590.6660499999916\n",
      "-2184.2734000000087\n",
      "12\n"
     ]
    }
   ],
   "source": [
    "principal = 31115\n",
    "month = 0\n",
    "while principal >= 0 :\n",
    "    principal = principal - (principal_month + Interest_month)\n",
    "    print (principal)\n",
    "    month += 1\n",
    "\n",
    "print (month)\n",
    "\n",
    "\n",
    "\n"
   ]
  },
  {
   "cell_type": "code",
   "execution_count": null,
   "metadata": {},
   "outputs": [],
   "source": []
  },
  {
   "cell_type": "code",
   "execution_count": null,
   "metadata": {},
   "outputs": [],
   "source": []
  },
  {
   "cell_type": "code",
   "execution_count": null,
   "metadata": {},
   "outputs": [],
   "source": []
  },
  {
   "cell_type": "code",
   "execution_count": null,
   "metadata": {},
   "outputs": [],
   "source": []
  }
 ],
 "metadata": {
  "anaconda-cloud": {},
  "kernelspec": {
   "display_name": "Python 3",
   "language": "python",
   "name": "python3"
  },
  "language_info": {
   "codemirror_mode": {
    "name": "ipython",
    "version": 3
   },
   "file_extension": ".py",
   "mimetype": "text/x-python",
   "name": "python",
   "nbconvert_exporter": "python",
   "pygments_lexer": "ipython3",
   "version": "3.8.3"
  }
 },
 "nbformat": 4,
 "nbformat_minor": 1
}
