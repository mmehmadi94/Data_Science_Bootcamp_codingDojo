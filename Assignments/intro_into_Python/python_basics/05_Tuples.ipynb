{
 "cells": [
  {
   "cell_type": "markdown",
   "metadata": {
    "collapsed": true
   },
   "source": [
    "<h1> Tuples </h1>\n",
    "<b>Objectives</b>\n",
    "\n",
    "* What are tuples\n",
    "* Tuples are immutable \n",
    "* Tuple packing and unpacking \n",
    "* Tuple methods\n",
    "* Optional-Advantages of tuples versus lists \n",
    "\n",
    "Tuples are an ordered sequences of items, just like lists. The main difference between tuples and lists is that tuples cannot be changed (immutable) unlike lists which can (mutable)."
   ]
  },
  {
   "cell_type": "markdown",
   "metadata": {},
   "source": [
    "<h2>What are tuples</h2>"
   ]
  },
  {
   "cell_type": "markdown",
   "metadata": {},
   "source": [
    "Tuples are an ordered sequences of items, just like lists. The main difference between tuples and lists is that tuples cannot be changed (immutable) unlike lists which can (mutable)."
   ]
  },
  {
   "cell_type": "markdown",
   "metadata": {},
   "source": [
    "<h2> How to initialize an empty tuple </h2>"
   ]
  },
  {
   "cell_type": "code",
   "execution_count": 22,
   "metadata": {},
   "outputs": [
    {
     "name": "stdout",
     "output_type": "stream",
     "text": [
      "()\n"
     ]
    }
   ],
   "source": [
    "# Initialize an empty tuple option 1\n",
    "emptyTuple = ()\n",
    "print(emptyTuple)"
   ]
  },
  {
   "cell_type": "code",
   "execution_count": 24,
   "metadata": {},
   "outputs": [
    {
     "name": "stdout",
     "output_type": "stream",
     "text": [
      "()\n"
     ]
    }
   ],
   "source": [
    "# Initialize an empty tuple option 2\n",
    "## Initialize a Tuple\n",
    "emptyTuple2 = tuple()\n",
    "print(emptyTuple2)"
   ]
  },
  {
   "cell_type": "markdown",
   "metadata": {},
   "source": [
    "### Initialize a tuple with values"
   ]
  },
  {
   "cell_type": "markdown",
   "metadata": {},
   "source": [
    "![](images/defineTuple_a.png)"
   ]
  },
  {
   "cell_type": "code",
   "execution_count": 29,
   "metadata": {},
   "outputs": [
    {
     "name": "stdout",
     "output_type": "stream",
     "text": [
      "(3, 7, 4, 2)\n",
      "(2, 3, 7, 4, 2)\n"
     ]
    }
   ],
   "source": [
    "# tuples can be defined with or without parenthesis\n",
    "z = (3, 7, 4, 2)\n",
    "print(z)\n",
    "z1 = z = 2, 3, 7, 4, 2\n",
    "print(z1)"
   ]
  },
  {
   "cell_type": "markdown",
   "metadata": {},
   "source": [
    "It is important to keep in mind that if you want to create a tuple containing only one value, you need a trailing comma after your item."
   ]
  },
  {
   "cell_type": "code",
   "execution_count": 38,
   "metadata": {},
   "outputs": [
    {
     "name": "stdout",
     "output_type": "stream",
     "text": [
      "('Abdullah',)\n",
      "Abdullah\n",
      "('Daniel',)\n",
      "<class 'tuple'>\n"
     ]
    }
   ],
   "source": [
    "# tuple with one value\n",
    "tup1 = (\"Abdullah\",)\n",
    "print(tup1)\n",
    "tup2 = (\"Abdullah\")\n",
    "print(tup2)\n",
    "\n",
    "# tuple with one value\n",
    "tup3 = \"Daniel\",  \n",
    "print(tup3)\n",
    "\n",
    "# This is a string, NOT a tuple.\n",
    "#notTuple =\n",
    "print(type(tup3))\n"
   ]
  },
  {
   "cell_type": "markdown",
   "metadata": {},
   "source": [
    "<h3> Access Values in Tuples</h3>\n",
    "\n",
    "![](images/tupleImage.png)\n",
    "Each value in a tuple has an assigned index value. It is important to note that python is a zero indexed based language. All this means is that the first value in the tuple is at index 0."
   ]
  },
  {
   "cell_type": "code",
   "execution_count": 40,
   "metadata": {},
   "outputs": [
    {
     "name": "stdout",
     "output_type": "stream",
     "text": [
      "3\n"
     ]
    }
   ],
   "source": [
    "# Initialize a tuple\n",
    "z = (3, 7, 4, 2)\n",
    "\n",
    "# Access the first item of a tuple at index 0\n",
    "print(z[0])"
   ]
  },
  {
   "cell_type": "markdown",
   "metadata": {},
   "source": [
    "Python also supports negative indexing. Negative indexing starts from the end of the tuple. It can sometimes be more convenient to use negative indexing to get the last item in a tuple because you don’t have to know the length of a tuple to access the last item.\n",
    "\n",
    "![](images/accessTuple.png)"
   ]
  },
  {
   "cell_type": "code",
   "execution_count": 41,
   "metadata": {},
   "outputs": [
    {
     "name": "stdout",
     "output_type": "stream",
     "text": [
      "2\n"
     ]
    }
   ],
   "source": [
    "# print last item in the tuple\n",
    "print(z[-1])"
   ]
  },
  {
   "cell_type": "markdown",
   "metadata": {},
   "source": [
    "<h3> Tuple Slices</h3>\n",
    "\n",
    "Slice operations return a new tuple containing the requested items. Slices are good for getting a subset of values in your tuple. For the example code below, it will return a tuple with the items from index 0 up to and not including index 2.\n",
    "![](images/sliceTuple.png)"
   ]
  },
  {
   "cell_type": "code",
   "execution_count": 42,
   "metadata": {},
   "outputs": [
    {
     "name": "stdout",
     "output_type": "stream",
     "text": [
      "(3, 7)\n"
     ]
    }
   ],
   "source": [
    "# Initialize a tuple\n",
    "z = (3, 7, 4, 2)\n",
    "\n",
    "# first index is inclusive (before the :) and last (after the :) is not.\n",
    "print(z[0:2])"
   ]
  },
  {
   "cell_type": "markdown",
   "metadata": {},
   "source": [
    "![](images/sliceTuple_b.png)"
   ]
  },
  {
   "cell_type": "code",
   "execution_count": 43,
   "metadata": {},
   "outputs": [
    {
     "name": "stdout",
     "output_type": "stream",
     "text": [
      "(3, 7, 4)\n"
     ]
    }
   ],
   "source": [
    "# everything up to but not including index 3\n",
    "print(z[:3])"
   ]
  },
  {
   "cell_type": "markdown",
   "metadata": {},
   "source": [
    "You can even make slices with negative indexes.\n",
    "![](images/slice_Tuple_c.png)"
   ]
  },
  {
   "cell_type": "code",
   "execution_count": 45,
   "metadata": {},
   "outputs": [
    {
     "name": "stdout",
     "output_type": "stream",
     "text": [
      "()\n",
      "(7, 4)\n",
      "()\n",
      "()\n",
      "()\n"
     ]
    }
   ],
   "source": [
    "print(z[-4:0])\n",
    "print(z[-3:-1])\n",
    "print(z[-2:-2])\n",
    "print(z[-1:-3])\n",
    "print(z[0:-4])"
   ]
  },
  {
   "cell_type": "markdown",
   "metadata": {},
   "source": [
    "<h2>Tuples are Immutable</h2>\n",
    "\n",
    "Need something on why this is something Python does.\n",
    "Tuples are immutable which means that after initializing a tuple, it is impossible to update individual items in a tuple. As you can see in the code below, you cannot update or change the values of tuple items (this is different from [Python Lists](https://hackernoon.com/python-basics-6-lists-and-list-manipulation-a56be62b1f95) which are mutable)."
   ]
  },
  {
   "cell_type": "code",
   "execution_count": 47,
   "metadata": {},
   "outputs": [
    {
     "ename": "TypeError",
     "evalue": "'tuple' object does not support item assignment",
     "output_type": "error",
     "traceback": [
      "\u001b[0;31m---------------------------------------------------------------------------\u001b[0m",
      "\u001b[0;31mTypeError\u001b[0m                                 Traceback (most recent call last)",
      "\u001b[0;32m<ipython-input-47-c45b9ff93670>\u001b[0m in \u001b[0;36m<module>\u001b[0;34m\u001b[0m\n\u001b[1;32m      1\u001b[0m \u001b[0mz\u001b[0m \u001b[0;34m=\u001b[0m \u001b[0;34m(\u001b[0m\u001b[0;36m3\u001b[0m\u001b[0;34m,\u001b[0m \u001b[0;36m7\u001b[0m\u001b[0;34m,\u001b[0m \u001b[0;36m4\u001b[0m\u001b[0;34m,\u001b[0m \u001b[0;36m2\u001b[0m\u001b[0;34m)\u001b[0m\u001b[0;34m\u001b[0m\u001b[0m\n\u001b[0;32m----> 2\u001b[0;31m \u001b[0mz\u001b[0m\u001b[0;34m[\u001b[0m\u001b[0;36m0\u001b[0m\u001b[0;34m]\u001b[0m \u001b[0;34m=\u001b[0m \u001b[0;36m3\u001b[0m\u001b[0;34m\u001b[0m\u001b[0m\n\u001b[0m",
      "\u001b[0;31mTypeError\u001b[0m: 'tuple' object does not support item assignment"
     ]
    }
   ],
   "source": [
    "z = (3, 7, 4, 2)\n",
    "z[0] = 3"
   ]
  },
  {
   "cell_type": "markdown",
   "metadata": {},
   "source": [
    "Even though tuples are immutable, it is possible to take portions of existing tuples to create new tuples as the following example demonstrates."
   ]
  },
  {
   "cell_type": "code",
   "execution_count": 49,
   "metadata": {},
   "outputs": [
    {
     "name": "stdout",
     "output_type": "stream",
     "text": [
      "('Python', 'SQL', 'R')\n"
     ]
    }
   ],
   "source": [
    "# Initialize tuple\n",
    "tup1 = ('Python', 'SQL')\n",
    "\n",
    "# Initialize another Tuple\n",
    "tup2 = ('R',)\n",
    "\n",
    "# Create new tuple based on existing tuples\n",
    "two_tups = tup1 + tup2\n",
    "print(two_tups)"
   ]
  },
  {
   "cell_type": "markdown",
   "metadata": {},
   "source": [
    "<h2>Tuple packing and unpacking</h2>"
   ]
  },
  {
   "cell_type": "markdown",
   "metadata": {},
   "source": [
    "There are two terms you should become familiar with for later in the course. They are tuple packing and tuple unpacking. "
   ]
  },
  {
   "cell_type": "markdown",
   "metadata": {},
   "source": [
    "<h3>Tuple packing</h3>"
   ]
  },
  {
   "cell_type": "code",
   "execution_count": 50,
   "metadata": {},
   "outputs": [],
   "source": [
    "# For each of the values below, you are packing them into a tuple\n",
    "z = (3, 7, 4, 2)"
   ]
  },
  {
   "cell_type": "markdown",
   "metadata": {},
   "source": [
    "<h3>Tuple unpacking</h3>"
   ]
  },
  {
   "cell_type": "code",
   "execution_count": 51,
   "metadata": {},
   "outputs": [
    {
     "name": "stdout",
     "output_type": "stream",
     "text": [
      "3\n",
      "7\n",
      "4\n",
      "2\n"
     ]
    }
   ],
   "source": [
    "# Unpack each value in tuple\n",
    "# first item in tuple will be assigned to a\n",
    "# second item in tuple will be assigned to b\n",
    "# third item in tuple will be assigned to c\n",
    "# fourth item in tuple will be assigned to d\n",
    "a, b, c, d = (3, 7, 4, 2)\n",
    "print(a)\n",
    "print(b)\n",
    "print(c)\n",
    "print(d)\n"
   ]
  },
  {
   "cell_type": "markdown",
   "metadata": {},
   "source": [
    "Remember to keep this in mind for later in the course when you see something similar, but more complicated looking. \n",
    "\n",
    "\n",
    "`X_train, X_test, Y_train, Y_test = train_test_split(df[data.feature_names], df['target'], random_state=0)`"
   ]
  },
  {
   "cell_type": "markdown",
   "metadata": {},
   "source": [
    "![](images/traintestsplitTupleImage.png)"
   ]
  },
  {
   "cell_type": "markdown",
   "metadata": {},
   "source": [
    "It is the same concept just with more complex values. Instead of unpacking integers, it is unpacking NumPy arrays which we will learn about later in the course."
   ]
  },
  {
   "cell_type": "markdown",
   "metadata": {},
   "source": [
    "<h2> Tuple Methods</h2>\n",
    "\n",
    "![](images/negativeIndexTuple.png)\n",
    "Before starting this section, let’s first initialize a tuple."
   ]
  },
  {
   "cell_type": "code",
   "execution_count": 52,
   "metadata": {},
   "outputs": [],
   "source": [
    "# Initialize a tuple\n",
    "animals = ('lama', 'sheep', 'lama', 48)"
   ]
  },
  {
   "cell_type": "markdown",
   "metadata": {},
   "source": [
    "### index method \n",
    "The index method returns the first index at which a value occurs."
   ]
  },
  {
   "cell_type": "code",
   "execution_count": 14,
   "metadata": {},
   "outputs": [
    {
     "data": {
      "text/plain": [
       "('lama', 'sheep', 'lama', 48)"
      ]
     },
     "execution_count": 14,
     "metadata": {},
     "output_type": "execute_result"
    }
   ],
   "source": [
    "animals"
   ]
  },
  {
   "cell_type": "code",
   "execution_count": 53,
   "metadata": {},
   "outputs": [
    {
     "data": {
      "text/plain": [
       "0"
      ]
     },
     "execution_count": 53,
     "metadata": {},
     "output_type": "execute_result"
    }
   ],
   "source": [
    "# try .index()\n",
    "animals.index('lama')\n"
   ]
  },
  {
   "cell_type": "markdown",
   "metadata": {},
   "source": [
    "### count method\n",
    "The count method returns the number of times a value occurs in a tuple."
   ]
  },
  {
   "cell_type": "code",
   "execution_count": 54,
   "metadata": {},
   "outputs": [
    {
     "data": {
      "text/plain": [
       "('lama', 'sheep', 'lama', 48)"
      ]
     },
     "execution_count": 54,
     "metadata": {},
     "output_type": "execute_result"
    }
   ],
   "source": [
    "animals"
   ]
  },
  {
   "cell_type": "code",
   "execution_count": 56,
   "metadata": {},
   "outputs": [
    {
     "data": {
      "text/plain": [
       "2"
      ]
     },
     "execution_count": 56,
     "metadata": {},
     "output_type": "execute_result"
    }
   ],
   "source": [
    "# try .count()\n",
    "animals.count('lama')"
   ]
  },
  {
   "cell_type": "markdown",
   "metadata": {},
   "source": [
    "<h3>Skip-Enumerate </h3>\n",
    "The <b>enumerate</b> function returns a tuple containing a count for every iteration (from start which defaults to 0) as well as the corresponding value obtained from iterating over a sequence:"
   ]
  },
  {
   "cell_type": "code",
   "execution_count": 57,
   "metadata": {},
   "outputs": [
    {
     "name": "stdout",
     "output_type": "stream",
     "text": [
      "0 Steve\n",
      "1 Rachel\n",
      "2 Michael\n",
      "3 Monica\n"
     ]
    }
   ],
   "source": [
    "friends = ('Steve', 'Rachel', 'Michael', 'Monica')\n",
    "# 0 Steve\n",
    "# 1 Rachel\n",
    "# 2 Michael\n",
    "# 3 Monica\n",
    "\n",
    "for index, friend in enumerate(friends):\n",
    "    print(index, friend)"
   ]
  },
  {
   "cell_type": "markdown",
   "metadata": {},
   "source": [
    "<h2> Optional-Advantages of tuples versus lists</h2>\n",
    "Lists and tuples are standard Python data types that store values in a sequence. Atuple is immutable whereas a list is mutable. Here are some other advantages of tuples over lists (partially from <a href=\"https://stackoverflow.com/questions/68630/are-tuples-more-efficient-than-lists-in-python/22140115#22140115\">Stack Overflow</a>. Aside from returning returning 2 or more items from a function, they have other uses"
   ]
  },
  {
   "cell_type": "markdown",
   "metadata": {},
   "source": [
    "Tuples are faster than lists. If you’re defining a constant set of values and all you’re ever going to do with it is iterate through it, use a tuple instead of a list. The performance difference can be partially measured using the timeit library which allows you to time your Python code. The code below runs the code for each approach 1 million times and outputs the overall time it took in seconds."
   ]
  },
  {
   "cell_type": "code",
   "execution_count": 19,
   "metadata": {},
   "outputs": [
    {
     "name": "stdout",
     "output_type": "stream",
     "text": [
      "0.0181976769999892\n",
      "0.13368156400065345\n"
     ]
    }
   ],
   "source": [
    "import timeit \n",
    "print(timeit.timeit('x=(1,2,3,4,5,6,7,8,9,10,11,12)', number=1000000))\n",
    "print(timeit.timeit('x=[1,2,3,4,5,6,7,8,9,10,11,12]', number=1000000))"
   ]
  },
  {
   "cell_type": "markdown",
   "metadata": {},
   "source": [
    "Some tuples can be used as dictionary keys (specifically, tuples that contain immutable values like strings, numbers, and other tuples). Lists can never be used as dictionary keys, because lists are not immutable (you can learn about dictionaries [here](https://hackernoon.com/python-basics-10-dictionaries-and-dictionary-methods-4e9efa70f5b9))."
   ]
  },
  {
   "cell_type": "markdown",
   "metadata": {},
   "source": [
    "![](images/tupleKeysListsNot.png)"
   ]
  },
  {
   "cell_type": "markdown",
   "metadata": {},
   "source": [
    "Tuples can be used as values in sets whereas lists can not (you can learn more about sets [here](https://towardsdatascience.com/python-sets-and-set-theory-2ace093d1607))"
   ]
  },
  {
   "cell_type": "markdown",
   "metadata": {},
   "source": [
    "![](images/tuplesSet.png)"
   ]
  },
  {
   "cell_type": "code",
   "execution_count": null,
   "metadata": {},
   "outputs": [],
   "source": []
  }
 ],
 "metadata": {
  "anaconda-cloud": {},
  "celltoolbar": "Slideshow",
  "kernelspec": {
   "display_name": "Python 3",
   "language": "python",
   "name": "python3"
  },
  "language_info": {
   "codemirror_mode": {
    "name": "ipython",
    "version": 3
   },
   "file_extension": ".py",
   "mimetype": "text/x-python",
   "name": "python",
   "nbconvert_exporter": "python",
   "pygments_lexer": "ipython3",
   "version": "3.7.0"
  }
 },
 "nbformat": 4,
 "nbformat_minor": 1
}
