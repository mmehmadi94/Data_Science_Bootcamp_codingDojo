{
 "cells": [
  {
   "cell_type": "markdown",
   "metadata": {},
   "source": [
    "### First let's examine the algorithm for solving this problem\n",
    "\n",
    "    1. Pick a number of random numbers that represent the different days in a range from 1 to 365, if I have 30 people, then I need 30 numbers that represent their birthdays.\n",
    "    2. While \"selecting\" the numbers, check and see if there are any that match. If there is a match, record it.\n",
    "    3. Do the first step a number of times. The more trials that we run, the better or more accurate answer will be produced. We'll call this ntrials."
   ]
  },
  {
   "cell_type": "code",
   "execution_count": 1,
   "metadata": {},
   "outputs": [],
   "source": [
    "import random"
   ]
  },
  {
   "cell_type": "code",
   "execution_count": 10,
   "metadata": {},
   "outputs": [],
   "source": [
    "# set up variables\n",
    "people = 47\n",
    "trials = 10000"
   ]
  },
  {
   "cell_type": "code",
   "execution_count": 11,
   "metadata": {},
   "outputs": [],
   "source": [
    "# set up variable for storing matches\n",
    "matches = 0"
   ]
  },
  {
   "cell_type": "code",
   "execution_count": 12,
   "metadata": {},
   "outputs": [],
   "source": [
    "for trial in range(trials):\n",
    "    taken = {}\n",
    "    for person in range(people):\n",
    "        day = random.randint(0,365)\n",
    "        if day in taken:\n",
    "            matches += 1\n",
    "            break\n",
    "        taken[day] = 1"
   ]
  },
  {
   "cell_type": "code",
   "execution_count": 13,
   "metadata": {},
   "outputs": [
    {
     "name": "stdout",
     "output_type": "stream",
     "text": [
      "The fraction of trials that have matching b-days is 0.9529\n"
     ]
    }
   ],
   "source": [
    "print(\"The fraction of trials that have matching b-days is\", float(matches/trials))"
   ]
  },
  {
   "cell_type": "code",
   "execution_count": null,
   "metadata": {},
   "outputs": [],
   "source": []
  }
 ],
 "metadata": {
  "kernelspec": {
   "display_name": "Python 3",
   "language": "python",
   "name": "python3"
  },
  "language_info": {
   "codemirror_mode": {
    "name": "ipython",
    "version": 3
   },
   "file_extension": ".py",
   "mimetype": "text/x-python",
   "name": "python",
   "nbconvert_exporter": "python",
   "pygments_lexer": "ipython3",
   "version": "3.7.0"
  }
 },
 "nbformat": 4,
 "nbformat_minor": 4
}
