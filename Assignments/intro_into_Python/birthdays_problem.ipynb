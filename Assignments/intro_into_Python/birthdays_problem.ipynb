{
 "cells": [
  {
   "cell_type": "markdown",
   "metadata": {},
   "source": [
    "# Birthday paradox in python"
   ]
  },
  {
   "cell_type": "markdown",
   "metadata": {},
   "source": [
    "How many people need to be in a room in order for the probability of two of them having the same birthday is greater than 50%. Do the same for 95% and 99%.\n",
    "\n"
   ]
  },
  {
   "cell_type": "markdown",
   "metadata": {},
   "source": [
    "The birthday paradox basically says that if there are 23 people in a class, the probability that two of them will have the same birthday is 50%."
   ]
  },
  {
   "cell_type": "code",
   "execution_count": 19,
   "metadata": {},
   "outputs": [],
   "source": [
    "# Approximate number of people in Birthday Paradox problem \n",
    "import math \n",
    "\n",
    "# Returns approximate number of people for a given probability \n",
    "def find( p ): \n",
    "\treturn math.ceil(math.sqrt(2 * 365 *\n",
    "\t\t\t\t\tmath.log(1/(1-p)))); \n",
    "\n",
    "# P(same) = 1 – P(different)"
   ]
  },
  {
   "cell_type": "code",
   "execution_count": 18,
   "metadata": {},
   "outputs": [
    {
     "name": "stdout",
     "output_type": "stream",
     "text": [
      "23 people in a room, the probability birthday is 50%\n",
      "47 people in a room, the probability birthday is 95%\n",
      "58 people in a room, the probability birthday is 99%\n"
     ]
    }
   ],
   "source": [
    "# Driver Code \n",
    "print(\"{} people in a room, the probability birthday is 50%\".format(find(0.50))) \n",
    "print(\"{} people in a room, the probability birthday is 95%\".format(find(0.95)))\n",
    "print(\"{} people in a room, the probability birthday is 99%\".format(find(0.99))) \n"
   ]
  },
  {
   "cell_type": "code",
   "execution_count": null,
   "metadata": {},
   "outputs": [],
   "source": []
  },
  {
   "cell_type": "code",
   "execution_count": null,
   "metadata": {},
   "outputs": [],
   "source": []
  },
  {
   "cell_type": "markdown",
   "metadata": {},
   "source": [
    "## Another Soluation\n",
    "\n",
    "First let's examine the algorithm for solving this problem:\n",
    "Pick a number of random numbers that represent the different days in a range from 1 to 365, if I have 30 people, then I need 30 numbers that represent their birthdays.\n",
    "While \"selecting\" the numbers, check and see if there are any that match. If there is a match, record it.\n",
    "Do the first step a number of times. The more trials that we run, the better or more accurate answer will be produced. We'll call this ntrials."
   ]
  },
  {
   "cell_type": "markdown",
   "metadata": {},
   "source": [
    "Step 1: We can get a random number generator from the random module."
   ]
  },
  {
   "cell_type": "code",
   "execution_count": null,
   "metadata": {},
   "outputs": [],
   "source": [
    "import random"
   ]
  },
  {
   "cell_type": "code",
   "execution_count": null,
   "metadata": {},
   "outputs": [],
   "source": [
    "# Set up the variables for the trials and the number of people\n",
    "ntrials = 10000\n",
    "npeople = 50"
   ]
  },
  {
   "cell_type": "code",
   "execution_count": null,
   "metadata": {},
   "outputs": [],
   "source": [
    "# Set up a storage variable for matching numbers\n",
    "matches = 0"
   ]
  },
  {
   "cell_type": "markdown",
   "metadata": {},
   "source": [
    "Now let's do a nested for loop, and check if we have matches, when we do have a match--add 1 to the matches variable."
   ]
  },
  {
   "cell_type": "code",
   "execution_count": null,
   "metadata": {},
   "outputs": [],
   "source": [
    "for trial in range(ntrials):\n",
    "  taken = {}\n",
    "  for person in range(npeople):\n",
    "    day = random.randint(0,365)\n",
    "    if day in taken:\n",
    "      matches += 1\n",
    "      break\n",
    "    taken[day] = 1"
   ]
  },
  {
   "cell_type": "code",
   "execution_count": null,
   "metadata": {},
   "outputs": [],
   "source": [
    "# Output the percent/fraction of trials that have matching birthdays."
   ]
  },
  {
   "cell_type": "code",
   "execution_count": null,
   "metadata": {},
   "outputs": [],
   "source": [
    "print (\"The fraction of trials that have matching birthdays is\",float(matches)/ntrials)"
   ]
  },
  {
   "cell_type": "code",
   "execution_count": null,
   "metadata": {},
   "outputs": [],
   "source": []
  },
  {
   "cell_type": "code",
   "execution_count": null,
   "metadata": {},
   "outputs": [],
   "source": []
  },
  {
   "cell_type": "code",
   "execution_count": null,
   "metadata": {},
   "outputs": [],
   "source": []
  }
 ],
 "metadata": {
  "kernelspec": {
   "display_name": "Python 3",
   "language": "python",
   "name": "python3"
  },
  "language_info": {
   "codemirror_mode": {
    "name": "ipython",
    "version": 3
   },
   "file_extension": ".py",
   "mimetype": "text/x-python",
   "name": "python",
   "nbconvert_exporter": "python",
   "pygments_lexer": "ipython3",
   "version": "3.7.8"
  }
 },
 "nbformat": 4,
 "nbformat_minor": 4
}
