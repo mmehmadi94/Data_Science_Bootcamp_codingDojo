{
 "cells": [
  {
   "cell_type": "markdown",
   "metadata": {},
   "source": [
    "#  Resume Scoring \n",
    "\n",
    "to identify the most suitable candidates"
   ]
  },
  {
   "cell_type": "code",
   "execution_count": 1,
   "metadata": {},
   "outputs": [
    {
     "name": "stdout",
     "output_type": "stream",
     "text": [
      "Requirement already satisfied: docx2txt in /opt/anaconda3/lib/python3.8/site-packages (0.8)\n",
      "Note: you may need to restart the kernel to use updated packages.\n"
     ]
    }
   ],
   "source": [
    "pip install docx2txt"
   ]
  },
  {
   "cell_type": "code",
   "execution_count": 17,
   "metadata": {},
   "outputs": [],
   "source": [
    "import docx2txt\n",
    "from sklearn.metrics.pairwise import cosine_similarity\n",
    "from sklearn.feature_extraction.text import CountVectorizer\n",
    "\n",
    "import os\n",
    "import pandas as pd\n",
    "import matplotlib.pyplot as plt\n",
    "import seaborn as sns\n",
    "\n",
    "%matplotlib inline"
   ]
  },
  {
   "cell_type": "markdown",
   "metadata": {},
   "source": [
    "### import job description for Data Scientist role in Elm company"
   ]
  },
  {
   "cell_type": "code",
   "execution_count": 18,
   "metadata": {},
   "outputs": [
    {
     "name": "stdout",
     "output_type": "stream",
     "text": [
      "The position holder is responsible for modeling complex business problems, through the use of advanced analytic skills. Also proficient at integrating and preparing large, varied datasets, architecting specialized database and computing environments, and communicating results. Other responsibilities include providing data that is congruent and reliable. The position holder will need to validate their findings using an experimental and iterative approach. Data should be turn into critical information and knowledge that can be used to make sound organizational decisions, According to the policies and procedures followed within ELM.\n",
      "\n",
      "\n",
      "\n",
      "Analysis and Recognition:\n",
      "\n",
      "\n",
      "\n",
      "Works with and alongside business analysts by suggesting other products of interest to the client. \n",
      "\n",
      "Models and frames business scenarios that are meaningful and which impact on critical business processes and/or decisions. \n",
      "\n",
      " Works in iterative processes with the client and validates findings \n",
      "\n",
      "Validates analysis using scenario modelling. \n",
      "\n",
      "Develops innovative and effective approaches to solve client's analytics problems and communicates results and methodologies. \n",
      "\n",
      "Develops experimental design approaches to validate finding or test hypotheses. Identifies/creates the appropriate algorithm to discover patterns\n",
      "\n",
      "\n",
      "\n",
      "Gathering and Data organizing:\n",
      "\n",
      "\n",
      "\n",
      "Identifies what data is available and relevant, including internal and external data sources, leveraging new data collection processes such as smart meters and geo-location information or social media. \n",
      "\n",
      " Collaborates with Institute subject matter experts to select the relevant sources of information. \n",
      "\n",
      "Makes strategic recommendations on data collection, integration and retention requirements incorporating business requirements and knowledge of best practices. \n",
      "\n",
      " Assesses, with the business, opportunities to enhance the qualification and assurance of the information to strengthen the use case. \n",
      "\n",
      "Defines the validity of the information, how long the information is meaningful, and what other information it is related to. \n",
      "\n",
      " Utilizes patterns and variations in the volume, speed and other characteristics of data supporting the initiative, the type of data (e.g., images, text, clickstream or metering data) in predictive analysis. \n",
      "\n",
      "Qualifies where information can be stored or what information, external to the organization, may be used in support of the use case.\n",
      "\n",
      "\n",
      "\n",
      "Deep Learning:\n",
      "\n",
      "\n",
      "\n",
      "Excellent knowledge in different deep learning practices (CNN, RNN, LTSM, Reinforcement Learning, etc) as well as Machine Learning in general\n",
      "\n",
      "Practical experience in implementing systems using deep learning\n",
      "\n",
      "Experience with one or more of the deep learning frameworks such as: Tensorflow, Caffe, Keras, PyTorch\n",
      "\n",
      "Experience in Computer Vision and object detection is preferred\n",
      "\n",
      "Contribution in research communities, publishing papers or participation in Github projects related to deep learning is preferred\n",
      "\n",
      "\n",
      "\n",
      "\n",
      "\n",
      "\n",
      "\n",
      "JOB SPECIFICATIONS \n",
      "\n",
      "\n",
      "\n",
      "Academic and professional qualifications \n",
      "\n",
      "\n",
      "\n",
      "Phd./Masters in Data Science OR AI OR Machine Learning OR Mathematics OR Statistics OR Computer science related field;\n",
      "\n",
      "\n",
      "\n",
      "Years and Nature of Experience :\n",
      "\n",
      "\n",
      "\n",
      "8-12 years of relevant experience in a related industry\n"
     ]
    }
   ],
   "source": [
    "# store the job desccription into a variable \n",
    "job_des = docx2txt.process(\"job_description.docx\")\n",
    "\n",
    "# print the job desccription\n",
    "print(job_des)"
   ]
  },
  {
   "cell_type": "markdown",
   "metadata": {},
   "source": [
    "### Import 15 randomly resumes were gathered from resume genius website"
   ]
  },
  {
   "cell_type": "code",
   "execution_count": 19,
   "metadata": {},
   "outputs": [],
   "source": [
    "# Store the resume in in a variable\n",
    "\n",
    "mypath='resumes' #enter your path here where you saved the resumes\n",
    "onlyfiles = [os.path.join(mypath, f) for f in os.listdir(mypath) if os.path.isfile(os.path.join(mypath, f))]\n",
    "\n",
    "profiles = {}\n",
    "\n",
    "i = 0 \n",
    "while i < len(onlyfiles): \n",
    "    file = onlyfiles[i]\n",
    "    if (file != 'resumes/.DS_Store'):\n",
    "        base = os.path.basename(file)  # return file name with extension\n",
    "        filename = os.path.splitext(base)[0] # remove extension\n",
    "        \n",
    "        content = docx2txt.process(file)\n",
    "\n",
    "        profiles[filename] = content\n",
    "    i +=1\n",
    "    "
   ]
  },
  {
   "cell_type": "markdown",
   "metadata": {},
   "source": [
    "### Calculate cosine_similarity"
   ]
  },
  {
   "cell_type": "code",
   "execution_count": 20,
   "metadata": {
    "scrolled": false
   },
   "outputs": [],
   "source": [
    "df = pd.DataFrame()"
   ]
  },
  {
   "cell_type": "code",
   "execution_count": 21,
   "metadata": {},
   "outputs": [],
   "source": [
    "for key, value in profiles.items():\n",
    "    #print(key, ' : ', value)\n",
    "    \n",
    "    text = [value, job_des]\n",
    "    \n",
    "    cv = CountVectorizer()\n",
    "    count_martix = cv.fit_transform(text)\n",
    "    # score cosine_similarity(count_martix)\n",
    "    \n",
    "    matchPercentage = cosine_similarity(count_martix)[0][1]*100\n",
    "    matchPercentage = round(matchPercentage, 2) # round to two decimal places\n",
    "    \n",
    "    new_row = {'name':key, 'resume_content': value , 'score': matchPercentage }\n",
    "    #append row to the dataframe\n",
    "    df = df.append(new_row, ignore_index=True)"
   ]
  },
  {
   "cell_type": "code",
   "execution_count": 22,
   "metadata": {},
   "outputs": [
    {
     "data": {
      "text/html": [
       "<div>\n",
       "<style scoped>\n",
       "    .dataframe tbody tr th:only-of-type {\n",
       "        vertical-align: middle;\n",
       "    }\n",
       "\n",
       "    .dataframe tbody tr th {\n",
       "        vertical-align: top;\n",
       "    }\n",
       "\n",
       "    .dataframe thead th {\n",
       "        text-align: right;\n",
       "    }\n",
       "</style>\n",
       "<table border=\"1\" class=\"dataframe\">\n",
       "  <thead>\n",
       "    <tr style=\"text-align: right;\">\n",
       "      <th></th>\n",
       "      <th>name</th>\n",
       "      <th>resume_content</th>\n",
       "      <th>score</th>\n",
       "    </tr>\n",
       "  </thead>\n",
       "  <tbody>\n",
       "    <tr>\n",
       "      <th>0</th>\n",
       "      <td>Sara Alghamdi</td>\n",
       "      <td>Sara Alghamdi\\n\\n RESUME SAMPLE\\n\\nSara Algham...</td>\n",
       "      <td>52.19</td>\n",
       "    </tr>\n",
       "    <tr>\n",
       "      <th>1</th>\n",
       "      <td>JOHN SMITH</td>\n",
       "      <td>JOHN SMITH\\n\\n123 Your Address \\n\\n  City, Sta...</td>\n",
       "      <td>50.55</td>\n",
       "    </tr>\n",
       "    <tr>\n",
       "      <th>2</th>\n",
       "      <td>Ghada Abduallah</td>\n",
       "      <td>Ghada Abduallah\\n\\nGhada Abduallah\\n\\n\\t\\n\\nPr...</td>\n",
       "      <td>48.86</td>\n",
       "    </tr>\n",
       "    <tr>\n",
       "      <th>3</th>\n",
       "      <td>Arwa Hamid</td>\n",
       "      <td>Email: fatima.arain@gmail.com\\n\\nPhone: (342) ...</td>\n",
       "      <td>43.83</td>\n",
       "    </tr>\n",
       "    <tr>\n",
       "      <th>4</th>\n",
       "      <td>Naif Hamid</td>\n",
       "      <td>RESUME OBJECTIVE\\n\\nRESUME OBJECTIVE\\n\\nNaif H...</td>\n",
       "      <td>57.42</td>\n",
       "    </tr>\n",
       "    <tr>\n",
       "      <th>5</th>\n",
       "      <td>Ghada Abdellatif</td>\n",
       "      <td>Ghada Abdel Latif   \\n\\nAddress Line 1 Address...</td>\n",
       "      <td>52.53</td>\n",
       "    </tr>\n",
       "    <tr>\n",
       "      <th>6</th>\n",
       "      <td>Noura Abdullah</td>\n",
       "      <td>SECURITY OPERATIONS SECURITY ANALYST / Securit...</td>\n",
       "      <td>42.98</td>\n",
       "    </tr>\n",
       "    <tr>\n",
       "      <th>7</th>\n",
       "      <td>Malik Rabb</td>\n",
       "      <td>Malik Rabb\\n\\nSeattle, WA • (123) 456-7891\\nmr...</td>\n",
       "      <td>56.22</td>\n",
       "    </tr>\n",
       "    <tr>\n",
       "      <th>8</th>\n",
       "      <td>Abdulrahman</td>\n",
       "      <td>Abdulrahman\\n\\nAbdulrahman\\n\\n\\t\\n\\nFINANCIAL ...</td>\n",
       "      <td>57.22</td>\n",
       "    </tr>\n",
       "    <tr>\n",
       "      <th>9</th>\n",
       "      <td>Fatima Abdulrahman</td>\n",
       "      <td>FRONT-END DEVELOPER\\n\\nur Address    City, Sta...</td>\n",
       "      <td>46.84</td>\n",
       "    </tr>\n",
       "    <tr>\n",
       "      <th>10</th>\n",
       "      <td>Abear Naser</td>\n",
       "      <td>Abear Naser\\n\\nAbear Naser\\n\\n\\n\\nEmail: youre...</td>\n",
       "      <td>62.80</td>\n",
       "    </tr>\n",
       "    <tr>\n",
       "      <th>11</th>\n",
       "      <td>Khalid Al-Harbi</td>\n",
       "      <td>Khalid Al-Harbi\\n\\nKhalid Al-Harbi\\n\\n A.A. IN...</td>\n",
       "      <td>58.09</td>\n",
       "    </tr>\n",
       "    <tr>\n",
       "      <th>12</th>\n",
       "      <td>Faisal Abdulrahman</td>\n",
       "      <td>Email: fatima.arain@gmail.com\\n\\nPhone: (342) ...</td>\n",
       "      <td>43.83</td>\n",
       "    </tr>\n",
       "    <tr>\n",
       "      <th>13</th>\n",
       "      <td>Tahani Abdulrahman</td>\n",
       "      <td>Tahani Abdulrahman\\n\\nTahani Abdulrahman\\n\\nPr...</td>\n",
       "      <td>42.16</td>\n",
       "    </tr>\n",
       "    <tr>\n",
       "      <th>14</th>\n",
       "      <td>Ashwaq Khaled</td>\n",
       "      <td>TECHNICAL RESUME\\n\\n\\n\\n123 Your Address \\n\\n ...</td>\n",
       "      <td>58.27</td>\n",
       "    </tr>\n",
       "  </tbody>\n",
       "</table>\n",
       "</div>"
      ],
      "text/plain": [
       "                   name                                     resume_content  \\\n",
       "0         Sara Alghamdi  Sara Alghamdi\\n\\n RESUME SAMPLE\\n\\nSara Algham...   \n",
       "1            JOHN SMITH  JOHN SMITH\\n\\n123 Your Address \\n\\n  City, Sta...   \n",
       "2       Ghada Abduallah  Ghada Abduallah\\n\\nGhada Abduallah\\n\\n\\t\\n\\nPr...   \n",
       "3            Arwa Hamid  Email: fatima.arain@gmail.com\\n\\nPhone: (342) ...   \n",
       "4            Naif Hamid  RESUME OBJECTIVE\\n\\nRESUME OBJECTIVE\\n\\nNaif H...   \n",
       "5   Ghada Abdellatif     Ghada Abdel Latif   \\n\\nAddress Line 1 Address...   \n",
       "6        Noura Abdullah  SECURITY OPERATIONS SECURITY ANALYST / Securit...   \n",
       "7            Malik Rabb  Malik Rabb\\n\\nSeattle, WA • (123) 456-7891\\nmr...   \n",
       "8           Abdulrahman  Abdulrahman\\n\\nAbdulrahman\\n\\n\\t\\n\\nFINANCIAL ...   \n",
       "9    Fatima Abdulrahman  FRONT-END DEVELOPER\\n\\nur Address    City, Sta...   \n",
       "10          Abear Naser  Abear Naser\\n\\nAbear Naser\\n\\n\\n\\nEmail: youre...   \n",
       "11      Khalid Al-Harbi  Khalid Al-Harbi\\n\\nKhalid Al-Harbi\\n\\n A.A. IN...   \n",
       "12   Faisal Abdulrahman  Email: fatima.arain@gmail.com\\n\\nPhone: (342) ...   \n",
       "13   Tahani Abdulrahman  Tahani Abdulrahman\\n\\nTahani Abdulrahman\\n\\nPr...   \n",
       "14        Ashwaq Khaled  TECHNICAL RESUME\\n\\n\\n\\n123 Your Address \\n\\n ...   \n",
       "\n",
       "    score  \n",
       "0   52.19  \n",
       "1   50.55  \n",
       "2   48.86  \n",
       "3   43.83  \n",
       "4   57.42  \n",
       "5   52.53  \n",
       "6   42.98  \n",
       "7   56.22  \n",
       "8   57.22  \n",
       "9   46.84  \n",
       "10  62.80  \n",
       "11  58.09  \n",
       "12  43.83  \n",
       "13  42.16  \n",
       "14  58.27  "
      ]
     },
     "execution_count": 22,
     "metadata": {},
     "output_type": "execute_result"
    }
   ],
   "source": [
    "df"
   ]
  },
  {
   "cell_type": "markdown",
   "metadata": {},
   "source": [
    "### Visualization "
   ]
  },
  {
   "cell_type": "code",
   "execution_count": 23,
   "metadata": {},
   "outputs": [
    {
     "data": {
      "image/png": "[encoded data removed]",
      "text/plain": [
       "<Figure size 720x576 with 1 Axes>"
      ]
     },
     "metadata": {
      "needs_background": "light"
     },
     "output_type": "display_data"
    }
   ],
   "source": [
    "plt.figure(figsize=(10, 8))\n",
    "\n",
    "# Create barplot\n",
    "ax = sns.barplot(x = 'score', y='name', \n",
    "                 data = df, color = 'mediumseagreen',\n",
    "                 order=df.sort_values('score', ascending = False).name )\n",
    "\n",
    "# Annotate every single Bar with its value, based on it's width           \n",
    "for p in ax.patches:\n",
    "    width = p.get_width()\n",
    "    plt.text(5+p.get_width(), p.get_y()+0.55*p.get_height(),\n",
    "             '{:1.2f}'.format(width),\n",
    "             ha='center', va='center')\n",
    "    \n",
    "    \n",
    "plt.title('Resumes scoring based on the Job description').set_fontsize('18')\n",
    "plt.ylabel('candidates names')\n",
    "plt.xlabel('resume score')\n",
    "\n",
    "plt.savefig('Resumes_scores.png')\n"
   ]
  },
  {
   "cell_type": "code",
   "execution_count": null,
   "metadata": {},
   "outputs": [],
   "source": []
  },
  {
   "cell_type": "code",
   "execution_count": null,
   "metadata": {},
   "outputs": [],
   "source": []
  }
 ],
 "metadata": {
  "kernelspec": {
   "display_name": "Python 3",
   "language": "python",
   "name": "python3"
  },
  "language_info": {
   "codemirror_mode": {
    "name": "ipython",
    "version": 3
   },
   "file_extension": ".py",
   "mimetype": "text/x-python",
   "name": "python",
   "nbconvert_exporter": "python",
   "pygments_lexer": "ipython3",
   "version": "3.8.3"
  }
 },
 "nbformat": 4,
 "nbformat_minor": 4
}
